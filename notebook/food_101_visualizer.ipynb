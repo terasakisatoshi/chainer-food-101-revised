{
 "cells": [
  {
   "cell_type": "markdown",
   "metadata": {},
   "source": [
    "# Food-101 – Mining Discriminative Components with Random Forests\n",
    "\n",
    "- https://www.vision.ee.ethz.ch/datasets_extra/food-101/\n",
    "\n",
    "- dataset description (taken from the URL above)\n",
    "\n",
    "> We introduce a challenging data set of 101 food categories, with 101'000 images. For each class, 250 manually reviewed test images are provided as well as 750 training images. On purpose, the training images were not cleaned, and thus still contain some amount of noise. This comes mostly in the form of intense colors and sometimes wrong labels. All images were rescaled to have a maximum side length of 512 pixels."
   ]
  },
  {
   "cell_type": "markdown",
   "metadata": {},
   "source": [
    "# import modules"
   ]
  },
  {
   "cell_type": "code",
   "execution_count": null,
   "metadata": {},
   "outputs": [],
   "source": [
    "import os\n",
    "import json\n",
    "\n",
    "import numpy as np\n",
    "import chainer\n",
    "from chainer.datasets import LabeledImageDataset\n",
    "from chainercv.visualizations import vis_image\n",
    "from matplotlib import pyplot as plt\n",
    "\n",
    "from ipywidgets import interact"
   ]
  },
  {
   "cell_type": "markdown",
   "metadata": {},
   "source": [
    "# Observe dataset structure"
   ]
  },
  {
   "cell_type": "code",
   "execution_count": null,
   "metadata": {},
   "outputs": [],
   "source": [
    "# specify dataset directory\n",
    "dataset_dir = os.path.expanduser(\"~/dataset/food-101/\")"
   ]
  },
  {
   "cell_type": "code",
   "execution_count": null,
   "metadata": {
    "scrolled": true
   },
   "outputs": [],
   "source": [
    "!tree - d - L 2 $dataset_dir"
   ]
  },
  {
   "cell_type": "markdown",
   "metadata": {},
   "source": [
    "# Observe files in \"meta\""
   ]
  },
  {
   "cell_type": "code",
   "execution_count": null,
   "metadata": {},
   "outputs": [],
   "source": [
    "meta_dir = os.path.join(dataset_dir, \"meta\")\n",
    "!ls $meta_dir"
   ]
  },
  {
   "cell_type": "code",
   "execution_count": null,
   "metadata": {},
   "outputs": [],
   "source": [
    "class_file = os.path.join(meta_dir, \"classes.txt\")\n",
    "!head - n 10 $class_file"
   ]
  },
  {
   "cell_type": "code",
   "execution_count": null,
   "metadata": {},
   "outputs": [],
   "source": [
    "# these images is not suited for our purpose\n",
    "BLACKLIST = [\n",
    "    \"lasagna/3787908\",\n",
    "    \"steak/1340977\",\n",
    "    \"bread_pudding/1375816\"\n",
    "]\n",
    "\n",
    "IMG_EXT = \".jpg\"\n",
    "\n",
    "\n",
    "def load_annotations(dataset_dir, mode):\n",
    "    meta_dir = os.path.join(dataset_dir, \"meta\")\n",
    "    class_file = os.path.join(meta_dir, \"classes.txt\")\n",
    "    food_names = np.genfromtxt(\n",
    "        class_file,\n",
    "        str,\n",
    "        delimiter=\"\\n\"\n",
    "    )\n",
    "    idx2name = {food_id: food_name for food_id, food_name in enumerate(food_names)}\n",
    "    json_name = \"train.json\" if mode == \"train\" else \"test.json\"\n",
    "    json_file = os.path.join(meta_dir, json_name)\n",
    "    with open(json_file, 'r') as f:\n",
    "        food2path = json.load(f)\n",
    "    pairs = []\n",
    "    for food_id, food_name in idx2name.items():\n",
    "        for path in food2path[food_name]:\n",
    "            if path in BLACKLIST:\n",
    "                # ignore\n",
    "                continue\n",
    "            path = os.path.join(dataset_dir, \"images\", path+IMG_EXT)\n",
    "            pairs.append((path, food_id))\n",
    "    \n",
    "    name2idx={name:idx for idx,name in idx2name.items()}\n",
    "    annotations={\n",
    "        \"pairs\":pairs,\n",
    "        \"name2idx\":name2idx,\n",
    "        \"idx2name\":idx2name,\n",
    "    }\n",
    "    return annotations\n",
    "\n",
    "\n",
    "class Food101Dataset(LabeledImageDataset):\n",
    "    def __init__(self, dataset_dir, mode=\"train\"):\n",
    "        annotations = load_annotations(dataset_dir, mode)\n",
    "        self.mode = mode\n",
    "        super(Food101Dataset, self).__init__(annotations[\"pairs\"])\n",
    "        self.idx2name = annotations[\"idx2name\"]\n",
    "        self.name2idx = annotations[\"name2idx\"]\n",
    "        \n",
    "def get_food101_dataset(dataset_dir,mode=\"train\"):\n",
    "    return Food101Dataset(dataset_dir,mode=mode)"
   ]
  },
  {
   "cell_type": "markdown",
   "metadata": {},
   "source": [
    "# visualize Food-101 Data Set"
   ]
  },
  {
   "cell_type": "code",
   "execution_count": null,
   "metadata": {},
   "outputs": [],
   "source": [
    "food_dataset = get_food101_dataset(dataset_dir,mode=\"train\")\n",
    "\n",
    "def visualize(i):\n",
    "    example = food_dataset.get_example(i)\n",
    "    img, food_idx = example\n",
    "    name=food_dataset.idx2name[int(food_idx)]\n",
    "    fig = plt.figure()\n",
    "    ax=fig.add_subplot(111)\n",
    "    ax.set_title(name)\n",
    "    vis_image(img,ax)\n",
    "    \n",
    "sample=np.random.randint(0,len(food_dataset),size=100)\n",
    "interact(visualize,i=sample)"
   ]
  }
 ],
 "metadata": {
  "@webio": {
   "lastCommId": null,
   "lastKernelId": null
  },
  "kernelspec": {
   "display_name": "Python 3",
   "language": "python",
   "name": "python3"
  },
  "language_info": {
   "codemirror_mode": {
    "name": "ipython",
    "version": 3
   },
   "file_extension": ".py",
   "mimetype": "text/x-python",
   "name": "python",
   "nbconvert_exporter": "python",
   "pygments_lexer": "ipython3",
   "version": "3.6.8"
  }
 },
 "nbformat": 4,
 "nbformat_minor": 2
}
