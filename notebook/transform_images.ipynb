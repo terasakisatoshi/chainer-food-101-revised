{
 "cells": [
  {
   "cell_type": "markdown",
   "metadata": {},
   "source": [
    "# transform images for data augmentation using chainercv.transforms"
   ]
  },
  {
   "cell_type": "markdown",
   "metadata": {},
   "source": [
    "# import modules"
   ]
  },
  {
   "cell_type": "code",
   "execution_count": null,
   "metadata": {},
   "outputs": [],
   "source": [
    "import os\n",
    "import random\n",
    "\n",
    "from matplotlib import pyplot as plt \n",
    "import numpy as np\n",
    "\n",
    "import chainer\n",
    "import chainercv\n",
    "from chainercv.visualizations import vis_image\n",
    "from chainercv.links.model.ssd import random_distort,resize_with_random_interpolation\n",
    "\n",
    "from ipywidgets import interact"
   ]
  },
  {
   "cell_type": "code",
   "execution_count": null,
   "metadata": {},
   "outputs": [],
   "source": [
    "# import local file\n",
    "\n",
    "import sys\n",
    "sys.path.append(\"../\")\n",
    "from food_101_dataset import Food101BaseDataset"
   ]
  },
  {
   "cell_type": "code",
   "execution_count": null,
   "metadata": {},
   "outputs": [],
   "source": [
    "dataset_dir = os.path.expanduser(\"~/dataset/food-101\")"
   ]
  },
  {
   "cell_type": "code",
   "execution_count": null,
   "metadata": {},
   "outputs": [],
   "source": [
    "params={\n",
    "    \"mode\":\"train\",\n",
    "    \"imsize\":(224,224),\n",
    "}\n",
    "\n",
    "base = Food101BaseDataset(dataset_dir)\n",
    "sample = np.random.randint(0,len(base),100)"
   ]
  },
  {
   "cell_type": "markdown",
   "metadata": {},
   "source": [
    "# visualize result of `chainercv.transforms`.method(image)"
   ]
  },
  {
   "cell_type": "code",
   "execution_count": null,
   "metadata": {},
   "outputs": [],
   "source": [
    "def vis_random_distort(i):\n",
    "    img,label=base.get_example(i)\n",
    "    fig = plt.figure()\n",
    "    ax1=fig.add_subplot(121)\n",
    "    ax2=fig.add_subplot(122)\n",
    "    distort_img = random_distort(img)\n",
    "    vis_image(img,ax=ax1)\n",
    "    vis_image(distort_img,ax=ax2)\n",
    "    ax1.set_title(\"original\")\n",
    "    ax2.set_title(\"distort\")\n",
    "interact(vis_random_distort,i=sample)"
   ]
  },
  {
   "cell_type": "code",
   "execution_count": null,
   "metadata": {},
   "outputs": [],
   "source": [
    "def vis_random_expand(i):\n",
    "    img,label=base.get_example(i)\n",
    "    fig = plt.figure()\n",
    "    ax1=fig.add_subplot(121)\n",
    "    ax2=fig.add_subplot(122)\n",
    "    expanded=chainercv.transforms.random_expand(img, max_ratio=1.25,fill=random.randint(0,255))\n",
    "    vis_image(img,ax=ax1)\n",
    "    vis_image(expanded,ax=ax2)\n",
    "    ax1.set_title(\"original\")\n",
    "    ax2.set_title(\"expand\")\n",
    "interact(vis_random_expand,i=sample)"
   ]
  },
  {
   "cell_type": "code",
   "execution_count": null,
   "metadata": {},
   "outputs": [],
   "source": [
    "def vis_random_crop(i):\n",
    "    img,label=base.get_example(i)\n",
    "    C,H,W=img.shape\n",
    "    fig = plt.figure()\n",
    "    ax1=fig.add_subplot(121)\n",
    "    ax2=fig.add_subplot(122)\n",
    "    size = (min(300,H),min(300,W))\n",
    "    cropped=chainercv.transforms.random_crop(img,size=(300,300))\n",
    "    vis_image(img,ax=ax1)\n",
    "    vis_image(cropped,ax=ax2)\n",
    "    ax1.set_title(\"original\")\n",
    "    ax2.set_title(\"crop\")\n",
    "interact(vis_random_crop,i=sample)"
   ]
  },
  {
   "cell_type": "code",
   "execution_count": null,
   "metadata": {},
   "outputs": [],
   "source": [
    "def vis_random_sized_crop(i):\n",
    "    img,label=base.get_example(i)\n",
    "    C,H,W=img.shape\n",
    "    fig = plt.figure()\n",
    "    ax1=fig.add_subplot(121)\n",
    "    ax2=fig.add_subplot(122)\n",
    "    cropped=chainercv.transforms.random_sized_crop(\n",
    "        img,\n",
    "        scale_ratio_range=(0.5,1),\n",
    "        aspect_ratio_range=(8/10,10/8),\n",
    "    )\n",
    "    vis_image(img,ax=ax1)\n",
    "    vis_image(cropped,ax=ax2)\n",
    "    ax1.set_title(\"original\")\n",
    "    ax2.set_title(\"crop\")\n",
    "interact(vis_random_sized_crop,i=sample)"
   ]
  },
  {
   "cell_type": "code",
   "execution_count": null,
   "metadata": {},
   "outputs": [],
   "source": [
    "def vis_random_flip(i):\n",
    "    img,label=base.get_example(i)\n",
    "    fig = plt.figure()\n",
    "    ax1=fig.add_subplot(121)\n",
    "    ax2=fig.add_subplot(122)\n",
    "    flipped=chainercv.transforms.random_flip(img,x_random=True)\n",
    "    vis_image(img,ax=ax1)\n",
    "    vis_image(flipped,ax=ax2)\n",
    "    ax1.set_title(\"original\")\n",
    "    ax2.set_title(\"flip\")\n",
    "interact(vis_random_flip,i=sample)"
   ]
  },
  {
   "cell_type": "code",
   "execution_count": null,
   "metadata": {},
   "outputs": [],
   "source": [
    "def vis_random_rotate(i):\n",
    "    img,label=base.get_example(i)\n",
    "    fig = plt.figure()\n",
    "    ax1=fig.add_subplot(121)\n",
    "    ax2=fig.add_subplot(122)\n",
    "    angle=random.randint(-90,90)\n",
    "    rotated=chainercv.transforms.rotate(\n",
    "        img,\n",
    "        angle=angle,\n",
    "        expand=True,\n",
    "        fill=random.randint(0,255),\n",
    "    )\n",
    "    vis_image(img,ax=ax1)\n",
    "    vis_image(rotated,ax=ax2)\n",
    "    ax1.set_title(\"original\")\n",
    "    ax2.set_title(\"rotate\")\n",
    "interact(vis_random_rotate,i=sample)"
   ]
  },
  {
   "cell_type": "code",
   "execution_count": null,
   "metadata": {},
   "outputs": [],
   "source": [
    "import random\n",
    "\n",
    "def vis_random_interpolation(i):\n",
    "    img,label=base.get_example(i)\n",
    "    fig = plt.figure()\n",
    "    ax1=fig.add_subplot(121)\n",
    "    ax2=fig.add_subplot(122)\n",
    "    angle=random.randint(-90,90)\n",
    "    H,W=224,224\n",
    "    size=(H,W)\n",
    "    resized=resize_with_random_interpolation(img,size)\n",
    "    vis_image(img,ax=ax1)\n",
    "    vis_image(resized,ax=ax2)\n",
    "    ax1.set_title(\"original\")\n",
    "    ax2.set_title(\"resized\")\n",
    "interact(vis_random_interpolation,i=sample)"
   ]
  },
  {
   "cell_type": "code",
   "execution_count": null,
   "metadata": {},
   "outputs": [],
   "source": [
    "def transform_image(image):\n",
    "    fill = random.randint(0,255)\n",
    "    \n",
    "    # color augmentation\n",
    "    do_distort=random.choice([True,False])\n",
    "    if do_distort :\n",
    "        image = random_distort(image)\n",
    "    # random rotate\n",
    "    angle=random.randint(-90,90)\n",
    "    image=chainercv.transforms.rotate(\n",
    "        image,\n",
    "        angle=angle,\n",
    "        expand=True,\n",
    "        fill=(fill,fill,fill),\n",
    "    )\n",
    "    \n",
    "    # random flip\n",
    "    image=chainercv.transforms.random_flip(image,x_random=True)\n",
    "    \n",
    "    # random_expand\n",
    "    do_expand = random.choice([True,False])\n",
    "    if do_expand:\n",
    "        image=chainercv.transforms.random_expand(\n",
    "            image, \n",
    "            max_ratio=1.5,\n",
    "            fill=fill,\n",
    "        )\n",
    "    # random scale and random crop\n",
    "    do_crop = random.choice([True,False])\n",
    "    if do_crop:\n",
    "        image=chainercv.transforms.random_sized_crop(\n",
    "            image,\n",
    "            scale_ratio_range=(0.3, 0.8),\n",
    "            aspect_ratio_range=(8/10,10/8),\n",
    "        )\n",
    "    return image\n",
    "\n",
    "class FoodDataset(chainer.dataset.DatasetMixin):\n",
    "    def __init__(self,base):\n",
    "        self.do_augmentation = (base.mode == \"train\")\n",
    "        self.base = base\n",
    "        self.imsize=base.imsize\n",
    "        \n",
    "    def get_example(self,i):\n",
    "        orig_image,label=self.base.get_example(i)\n",
    "        # copy image object to prevent changing value \n",
    "        # via side effect on data augmentation.\n",
    "        image= orig_image.copy()\n",
    "        if self.do_augmentation:\n",
    "            image = transform_image(image)\n",
    "            image=resize_with_random_interpolation(image,size=self.imsize)\n",
    "        image=chainercv.transforms.resize(image,size=self.imsize)\n",
    "        return image,label"
   ]
  },
  {
   "cell_type": "markdown",
   "metadata": {},
   "source": [
    "# visualize transformed dataset"
   ]
  },
  {
   "cell_type": "code",
   "execution_count": null,
   "metadata": {},
   "outputs": [],
   "source": [
    "food_dataset = FoodDataset(base)\n",
    "\n",
    "def vis_food_dataset(i):\n",
    "    orig_image,_ = food_dataset.base.get_example(i)\n",
    "    image,label = food_dataset.get_example(i)\n",
    "    fig = plt.figure()\n",
    "    ax1=fig.add_subplot(121)\n",
    "    ax2=fig.add_subplot(122)\n",
    "    vis_image(orig_image,ax=ax1)\n",
    "    vis_image(image,ax=ax2)\n",
    "    \n",
    "interact(vis_food_dataset,i=sample)"
   ]
  }
 ],
 "metadata": {
  "@webio": {
   "lastCommId": null,
   "lastKernelId": null
  },
  "kernelspec": {
   "display_name": "Python 3",
   "language": "python",
   "name": "python3"
  },
  "language_info": {
   "codemirror_mode": {
    "name": "ipython",
    "version": 3
   },
   "file_extension": ".py",
   "mimetype": "text/x-python",
   "name": "python",
   "nbconvert_exporter": "python",
   "pygments_lexer": "ipython3",
   "version": "3.6.8"
  }
 },
 "nbformat": 4,
 "nbformat_minor": 2
}
